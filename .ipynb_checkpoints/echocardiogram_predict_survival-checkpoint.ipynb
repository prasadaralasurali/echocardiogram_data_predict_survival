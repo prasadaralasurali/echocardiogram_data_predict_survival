{
 "cells": [
  {
   "cell_type": "markdown",
   "metadata": {},
   "source": [
    "# <center>Predicting Two-Year Patient Survival from Echocardiogram Data<center>\n",
    "<center>Raghavendra Prasad Savada</center> "
   ]
  },
  {
   "cell_type": "markdown",
   "metadata": {},
   "source": [
    "## Table of Contents\n",
    "* [Introduction](#int)\n",
    "* [Understanding the Data](#ud)\n",
    "* [Data Preparation](#dp)\n",
    "* [Data Exploration](#de)\n",
    "\t* [Missing Values](#mv)\n",
    "\t* [Distribution of Variables](#dv)\n",
    "\t* [Outliers](#ol)\n",
    "\t* [Feature Scaling](#fs)\n",
    "\t* [Correlation Among Features](#cf)\n",
    "* [Predictive Modeling](#pm)\n",
    "\t* [Train-Test Split](#tt)\n",
    "\t* [Impute Missing Values](#im)\n",
    "\t* [Scale Features](#sf)\n",
    "\t* [Logistic Regression (Model 1/Benchmark Model)](#lr)\n",
    "\t* [Logistic Regression Hyper-parameter Tuning](#lrh)\n",
    "\t* [Logistic Regression Model Evaluation](#lre)\n",
    "* [Selection of Model (Algorithm)](#sm)\n",
    "\t* [Decision Tree (Model 2/Final Chosen Algorithm)](#dt)\n",
    "\t* [Decision Tree Hyper-parameter Tuning](#dth)\n",
    "\t* [Decision Tree Model Evaluation](#dte)\n",
    "* [Predicting New Unseen Data](#pn)\n",
    "* [Conclusion](#cl)\n",
    "* [Further Improvement of the Model](#fi)\n"
   ]
  },
  {
   "cell_type": "markdown",
   "metadata": {},
   "source": [
    "<a id='int'></a>\n",
    "## Introduction\n",
    "\n",
    "In this project, I trained and tested a classifier using echocardiogram data to predict whether a patient will survive at least two years after a heart-attack. More details about the project is available in the file `project_report.pdf`."
   ]
  },
  {
   "cell_type": "markdown",
   "metadata": {},
   "source": [
    "<a id='ud'></a>\n",
    "## Understanding the Data"
   ]
  },
  {
   "cell_type": "code",
   "execution_count": 1,
   "metadata": {},
   "outputs": [],
   "source": [
    "# Import libraries\n",
    "import pandas as pd\n",
    "import numpy as np\n",
    "import matplotlib.pyplot as plt\n",
    "import seaborn as sns"
   ]
  },
  {
   "cell_type": "code",
   "execution_count": 2,
   "metadata": {},
   "outputs": [],
   "source": [
    "# Read data\n",
    "df_echo = pd.read_csv(\"echocardiogram.data\", header=None)"
   ]
  },
  {
   "cell_type": "code",
   "execution_count": 3,
   "metadata": {
    "scrolled": true
   },
   "outputs": [],
   "source": [
    "# Get the names of the columns.\n",
    "import re\n",
    "col_names = []\n",
    "with open('echocardiogram.names') as f_in:\n",
    "    for line in f_in:\n",
    "        if re.match(r'\\d+\\.', line):\n",
    "            match = re.search(r'\\d+\\. (\\b.*\\b) -- ', line)\n",
    "            col_names.append(match.group(1))\n",
    "df_echo.columns = col_names"
   ]
  },
  {
   "cell_type": "code",
   "execution_count": 4,
   "metadata": {},
   "outputs": [
    {
     "data": {
      "text/html": [
       "<div>\n",
       "<style scoped>\n",
       "    .dataframe tbody tr th:only-of-type {\n",
       "        vertical-align: middle;\n",
       "    }\n",
       "\n",
       "    .dataframe tbody tr th {\n",
       "        vertical-align: top;\n",
       "    }\n",
       "\n",
       "    .dataframe thead th {\n",
       "        text-align: right;\n",
       "    }\n",
       "</style>\n",
       "<table border=\"1\" class=\"dataframe\">\n",
       "  <thead>\n",
       "    <tr style=\"text-align: right;\">\n",
       "      <th></th>\n",
       "      <th>survival</th>\n",
       "      <th>still-alive</th>\n",
       "      <th>age-at-heart-attack</th>\n",
       "      <th>pericardial-effusion</th>\n",
       "      <th>fractional-shortening</th>\n",
       "      <th>epss</th>\n",
       "      <th>lvdd</th>\n",
       "      <th>wall-motion-score</th>\n",
       "      <th>wall-motion-index</th>\n",
       "      <th>mult</th>\n",
       "      <th>name</th>\n",
       "      <th>group</th>\n",
       "      <th>alive-at-1</th>\n",
       "    </tr>\n",
       "  </thead>\n",
       "  <tbody>\n",
       "    <tr>\n",
       "      <th>0</th>\n",
       "      <td>11.0</td>\n",
       "      <td>0</td>\n",
       "      <td>71</td>\n",
       "      <td>0</td>\n",
       "      <td>0.260</td>\n",
       "      <td>9</td>\n",
       "      <td>4.600</td>\n",
       "      <td>14</td>\n",
       "      <td>1</td>\n",
       "      <td>1</td>\n",
       "      <td>name</td>\n",
       "      <td>1</td>\n",
       "      <td>0</td>\n",
       "    </tr>\n",
       "    <tr>\n",
       "      <th>1</th>\n",
       "      <td>19.0</td>\n",
       "      <td>0</td>\n",
       "      <td>72</td>\n",
       "      <td>0</td>\n",
       "      <td>0.380</td>\n",
       "      <td>6</td>\n",
       "      <td>4.100</td>\n",
       "      <td>14</td>\n",
       "      <td>1.700</td>\n",
       "      <td>0.588</td>\n",
       "      <td>name</td>\n",
       "      <td>1</td>\n",
       "      <td>0</td>\n",
       "    </tr>\n",
       "    <tr>\n",
       "      <th>2</th>\n",
       "      <td>16.0</td>\n",
       "      <td>0</td>\n",
       "      <td>55</td>\n",
       "      <td>0</td>\n",
       "      <td>0.260</td>\n",
       "      <td>4</td>\n",
       "      <td>3.420</td>\n",
       "      <td>14</td>\n",
       "      <td>1</td>\n",
       "      <td>1</td>\n",
       "      <td>name</td>\n",
       "      <td>1</td>\n",
       "      <td>0</td>\n",
       "    </tr>\n",
       "    <tr>\n",
       "      <th>3</th>\n",
       "      <td>57.0</td>\n",
       "      <td>0</td>\n",
       "      <td>60</td>\n",
       "      <td>0</td>\n",
       "      <td>0.253</td>\n",
       "      <td>12.062</td>\n",
       "      <td>4.603</td>\n",
       "      <td>16</td>\n",
       "      <td>1.450</td>\n",
       "      <td>0.788</td>\n",
       "      <td>name</td>\n",
       "      <td>1</td>\n",
       "      <td>0</td>\n",
       "    </tr>\n",
       "    <tr>\n",
       "      <th>4</th>\n",
       "      <td>19.0</td>\n",
       "      <td>1</td>\n",
       "      <td>57</td>\n",
       "      <td>0</td>\n",
       "      <td>0.160</td>\n",
       "      <td>22</td>\n",
       "      <td>5.750</td>\n",
       "      <td>18</td>\n",
       "      <td>2.250</td>\n",
       "      <td>0.571</td>\n",
       "      <td>name</td>\n",
       "      <td>1</td>\n",
       "      <td>0</td>\n",
       "    </tr>\n",
       "  </tbody>\n",
       "</table>\n",
       "</div>"
      ],
      "text/plain": [
       "   survival  still-alive age-at-heart-attack  pericardial-effusion  \\\n",
       "0      11.0            0                  71                     0   \n",
       "1      19.0            0                  72                     0   \n",
       "2      16.0            0                  55                     0   \n",
       "3      57.0            0                  60                     0   \n",
       "4      19.0            1                  57                     0   \n",
       "\n",
       "  fractional-shortening    epss   lvdd wall-motion-score wall-motion-index  \\\n",
       "0                 0.260       9  4.600                14                 1   \n",
       "1                 0.380       6  4.100                14             1.700   \n",
       "2                 0.260       4  3.420                14                 1   \n",
       "3                 0.253  12.062  4.603                16             1.450   \n",
       "4                 0.160      22  5.750                18             2.250   \n",
       "\n",
       "    mult  name group alive-at-1  \n",
       "0      1  name     1          0  \n",
       "1  0.588  name     1          0  \n",
       "2      1  name     1          0  \n",
       "3  0.788  name     1          0  \n",
       "4  0.571  name     1          0  "
      ]
     },
     "execution_count": 4,
     "metadata": {},
     "output_type": "execute_result"
    }
   ],
   "source": [
    "df_echo.head()"
   ]
  },
  {
   "cell_type": "code",
   "execution_count": 5,
   "metadata": {},
   "outputs": [
    {
     "data": {
      "text/plain": [
       "(110, 13)"
      ]
     },
     "execution_count": 5,
     "metadata": {},
     "output_type": "execute_result"
    }
   ],
   "source": [
    "# Number of rows and columns\n",
    "df_echo.shape"
   ]
  },
  {
   "cell_type": "code",
   "execution_count": 6,
   "metadata": {},
   "outputs": [
    {
     "name": "stdout",
     "output_type": "stream",
     "text": [
      "<class 'pandas.core.frame.DataFrame'>\n",
      "RangeIndex: 110 entries, 0 to 109\n",
      "Data columns (total 13 columns):\n",
      " #   Column                 Non-Null Count  Dtype  \n",
      "---  ------                 --------------  -----  \n",
      " 0   survival               110 non-null    float64\n",
      " 1   still-alive            110 non-null    int64  \n",
      " 2   age-at-heart-attack    110 non-null    object \n",
      " 3   pericardial-effusion   110 non-null    int64  \n",
      " 4   fractional-shortening  110 non-null    object \n",
      " 5   epss                   110 non-null    object \n",
      " 6   lvdd                   110 non-null    object \n",
      " 7   wall-motion-score      110 non-null    object \n",
      " 8   wall-motion-index      110 non-null    object \n",
      " 9   mult                   110 non-null    object \n",
      " 10  name                   110 non-null    object \n",
      " 11  group                  110 non-null    object \n",
      " 12  alive-at-1             110 non-null    object \n",
      "dtypes: float64(1), int64(2), object(10)\n",
      "memory usage: 11.3+ KB\n"
     ]
    }
   ],
   "source": [
    "df_echo.info()"
   ]
  },
  {
   "cell_type": "markdown",
   "metadata": {},
   "source": [
    "<a id='dp'></a>\n",
    "## Data Preparation"
   ]
  },
  {
   "cell_type": "code",
   "execution_count": 7,
   "metadata": {},
   "outputs": [],
   "source": [
    "# Missing values are represented as '?'. \n",
    "# Change them to np.nap for programmatic handling of the missing values\n",
    "df_echo = df_echo.replace('?', np.nan)"
   ]
  },
  {
   "cell_type": "code",
   "execution_count": 8,
   "metadata": {},
   "outputs": [],
   "source": [
    "# Change the datatype of columns to suitable datatype\n",
    "df_echo = df_echo.astype(dtype={'age-at-heart-attack':'float', \n",
    "                                'fractional-shortening':'float',\n",
    "                                'epss':'float',\n",
    "                                'lvdd':'float',\n",
    "                                'wall-motion-score':'float',\n",
    "                                'wall-motion-index':'float',\n",
    "                                'mult':'float',\n",
    "                                })"
   ]
  },
  {
   "cell_type": "code",
   "execution_count": 9,
   "metadata": {},
   "outputs": [
    {
     "name": "stdout",
     "output_type": "stream",
     "text": [
      "<class 'pandas.core.frame.DataFrame'>\n",
      "RangeIndex: 110 entries, 0 to 109\n",
      "Data columns (total 13 columns):\n",
      " #   Column                 Non-Null Count  Dtype  \n",
      "---  ------                 --------------  -----  \n",
      " 0   survival               110 non-null    float64\n",
      " 1   still-alive            110 non-null    int64  \n",
      " 2   age-at-heart-attack    108 non-null    float64\n",
      " 3   pericardial-effusion   110 non-null    int64  \n",
      " 4   fractional-shortening  103 non-null    float64\n",
      " 5   epss                   96 non-null     float64\n",
      " 6   lvdd                   100 non-null    float64\n",
      " 7   wall-motion-score      107 non-null    float64\n",
      " 8   wall-motion-index      109 non-null    float64\n",
      " 9   mult                   107 non-null    float64\n",
      " 10  name                   110 non-null    object \n",
      " 11  group                  108 non-null    object \n",
      " 12  alive-at-1             73 non-null     object \n",
      "dtypes: float64(8), int64(2), object(3)\n",
      "memory usage: 11.3+ KB\n"
     ]
    }
   ],
   "source": [
    "df_echo.info()"
   ]
  },
  {
   "cell_type": "code",
   "execution_count": 10,
   "metadata": {},
   "outputs": [
    {
     "data": {
      "text/html": [
       "<div>\n",
       "<style scoped>\n",
       "    .dataframe tbody tr th:only-of-type {\n",
       "        vertical-align: middle;\n",
       "    }\n",
       "\n",
       "    .dataframe tbody tr th {\n",
       "        vertical-align: top;\n",
       "    }\n",
       "\n",
       "    .dataframe thead th {\n",
       "        text-align: right;\n",
       "    }\n",
       "</style>\n",
       "<table border=\"1\" class=\"dataframe\">\n",
       "  <thead>\n",
       "    <tr style=\"text-align: right;\">\n",
       "      <th></th>\n",
       "      <th>survival</th>\n",
       "      <th>still-alive</th>\n",
       "      <th>age-at-heart-attack</th>\n",
       "      <th>pericardial-effusion</th>\n",
       "      <th>fractional-shortening</th>\n",
       "      <th>epss</th>\n",
       "      <th>lvdd</th>\n",
       "      <th>wall-motion-score</th>\n",
       "      <th>wall-motion-index</th>\n",
       "      <th>mult</th>\n",
       "    </tr>\n",
       "  </thead>\n",
       "  <tbody>\n",
       "    <tr>\n",
       "      <th>count</th>\n",
       "      <td>110.000000</td>\n",
       "      <td>110.000000</td>\n",
       "      <td>108.000000</td>\n",
       "      <td>110.000000</td>\n",
       "      <td>103.000000</td>\n",
       "      <td>96.000000</td>\n",
       "      <td>100.000000</td>\n",
       "      <td>107.000000</td>\n",
       "      <td>109.000000</td>\n",
       "      <td>107.000000</td>\n",
       "    </tr>\n",
       "    <tr>\n",
       "      <th>mean</th>\n",
       "      <td>21.238909</td>\n",
       "      <td>0.363636</td>\n",
       "      <td>63.245639</td>\n",
       "      <td>0.172727</td>\n",
       "      <td>0.216845</td>\n",
       "      <td>12.446646</td>\n",
       "      <td>4.770820</td>\n",
       "      <td>14.597290</td>\n",
       "      <td>1.398541</td>\n",
       "      <td>0.779065</td>\n",
       "    </tr>\n",
       "    <tr>\n",
       "      <th>std</th>\n",
       "      <td>16.620949</td>\n",
       "      <td>0.483247</td>\n",
       "      <td>8.756683</td>\n",
       "      <td>0.379741</td>\n",
       "      <td>0.111736</td>\n",
       "      <td>7.058968</td>\n",
       "      <td>0.799371</td>\n",
       "      <td>5.270048</td>\n",
       "      <td>0.473960</td>\n",
       "      <td>0.214852</td>\n",
       "    </tr>\n",
       "    <tr>\n",
       "      <th>min</th>\n",
       "      <td>0.030000</td>\n",
       "      <td>0.000000</td>\n",
       "      <td>35.000000</td>\n",
       "      <td>0.000000</td>\n",
       "      <td>0.010000</td>\n",
       "      <td>0.000000</td>\n",
       "      <td>3.100000</td>\n",
       "      <td>2.000000</td>\n",
       "      <td>1.000000</td>\n",
       "      <td>0.140000</td>\n",
       "    </tr>\n",
       "    <tr>\n",
       "      <th>25%</th>\n",
       "      <td>3.250000</td>\n",
       "      <td>0.000000</td>\n",
       "      <td>57.000000</td>\n",
       "      <td>0.000000</td>\n",
       "      <td>0.145000</td>\n",
       "      <td>7.400000</td>\n",
       "      <td>4.230000</td>\n",
       "      <td>11.250000</td>\n",
       "      <td>1.000000</td>\n",
       "      <td>0.710000</td>\n",
       "    </tr>\n",
       "    <tr>\n",
       "      <th>50%</th>\n",
       "      <td>22.000000</td>\n",
       "      <td>0.000000</td>\n",
       "      <td>63.000000</td>\n",
       "      <td>0.000000</td>\n",
       "      <td>0.217000</td>\n",
       "      <td>11.350000</td>\n",
       "      <td>4.626500</td>\n",
       "      <td>14.000000</td>\n",
       "      <td>1.222000</td>\n",
       "      <td>0.786000</td>\n",
       "    </tr>\n",
       "    <tr>\n",
       "      <th>75%</th>\n",
       "      <td>33.000000</td>\n",
       "      <td>1.000000</td>\n",
       "      <td>68.250000</td>\n",
       "      <td>0.000000</td>\n",
       "      <td>0.271000</td>\n",
       "      <td>16.175000</td>\n",
       "      <td>5.302500</td>\n",
       "      <td>16.835000</td>\n",
       "      <td>1.625000</td>\n",
       "      <td>0.857000</td>\n",
       "    </tr>\n",
       "    <tr>\n",
       "      <th>max</th>\n",
       "      <td>57.000000</td>\n",
       "      <td>1.000000</td>\n",
       "      <td>86.000000</td>\n",
       "      <td>1.000000</td>\n",
       "      <td>0.610000</td>\n",
       "      <td>40.000000</td>\n",
       "      <td>6.780000</td>\n",
       "      <td>39.000000</td>\n",
       "      <td>3.000000</td>\n",
       "      <td>2.000000</td>\n",
       "    </tr>\n",
       "  </tbody>\n",
       "</table>\n",
       "</div>"
      ],
      "text/plain": [
       "         survival  still-alive  age-at-heart-attack  pericardial-effusion  \\\n",
       "count  110.000000   110.000000           108.000000            110.000000   \n",
       "mean    21.238909     0.363636            63.245639              0.172727   \n",
       "std     16.620949     0.483247             8.756683              0.379741   \n",
       "min      0.030000     0.000000            35.000000              0.000000   \n",
       "25%      3.250000     0.000000            57.000000              0.000000   \n",
       "50%     22.000000     0.000000            63.000000              0.000000   \n",
       "75%     33.000000     1.000000            68.250000              0.000000   \n",
       "max     57.000000     1.000000            86.000000              1.000000   \n",
       "\n",
       "       fractional-shortening       epss        lvdd  wall-motion-score  \\\n",
       "count             103.000000  96.000000  100.000000         107.000000   \n",
       "mean                0.216845  12.446646    4.770820          14.597290   \n",
       "std                 0.111736   7.058968    0.799371           5.270048   \n",
       "min                 0.010000   0.000000    3.100000           2.000000   \n",
       "25%                 0.145000   7.400000    4.230000          11.250000   \n",
       "50%                 0.217000  11.350000    4.626500          14.000000   \n",
       "75%                 0.271000  16.175000    5.302500          16.835000   \n",
       "max                 0.610000  40.000000    6.780000          39.000000   \n",
       "\n",
       "       wall-motion-index        mult  \n",
       "count         109.000000  107.000000  \n",
       "mean            1.398541    0.779065  \n",
       "std             0.473960    0.214852  \n",
       "min             1.000000    0.140000  \n",
       "25%             1.000000    0.710000  \n",
       "50%             1.222000    0.786000  \n",
       "75%             1.625000    0.857000  \n",
       "max             3.000000    2.000000  "
      ]
     },
     "execution_count": 10,
     "metadata": {},
     "output_type": "execute_result"
    }
   ],
   "source": [
    "# Descriptive statistics\n",
    "df_echo.describe()"
   ]
  },
  {
   "cell_type": "markdown",
   "metadata": {},
   "source": [
    "#### Removing rows/observations that cannot be used in prediction\n",
    "Remove all the rows where patient is still alive, but had heart attack less than 24 months ago. Since we are interested in predicting whether a patient will survive at least 2 years, we cannot include these rows in model training. Becuase, we would not know whehter these patients are going to survive for at least two years or not."
   ]
  },
  {
   "cell_type": "code",
   "execution_count": 11,
   "metadata": {},
   "outputs": [],
   "source": [
    "df_echo_filtered = df_echo[~((df_echo['still-alive'] == 1) & (df_echo['survival'] < 24))]"
   ]
  },
  {
   "cell_type": "code",
   "execution_count": 12,
   "metadata": {},
   "outputs": [
    {
     "data": {
      "text/plain": [
       "(71, 13)"
      ]
     },
     "execution_count": 12,
     "metadata": {},
     "output_type": "execute_result"
    }
   ],
   "source": [
    "df_echo_filtered.shape"
   ]
  },
  {
   "cell_type": "markdown",
   "metadata": {},
   "source": [
    "#### Creating a target variable that indicates weather a patient survived for at least 2 years (1) or not(0)"
   ]
  },
  {
   "cell_type": "code",
   "execution_count": 13,
   "metadata": {},
   "outputs": [],
   "source": [
    "# If the survival column has a value more than equal to 24,\n",
    "# label them as 1 in target column\n",
    "target = (df_echo_filtered['survival'] >= 24).astype(int)"
   ]
  },
  {
   "cell_type": "markdown",
   "metadata": {},
   "source": [
    "#### Is dataset balanced?\n",
    "As can be seen below, the dataset is highly imbalanced."
   ]
  },
  {
   "cell_type": "code",
   "execution_count": 14,
   "metadata": {},
   "outputs": [
    {
     "data": {
      "text/plain": [
       "1    52\n",
       "0    19\n",
       "Name: survival, dtype: int64"
      ]
     },
     "execution_count": 14,
     "metadata": {},
     "output_type": "execute_result"
    }
   ],
   "source": [
    "# Is target variable balanced?\n",
    "target.value_counts()"
   ]
  },
  {
   "cell_type": "markdown",
   "metadata": {},
   "source": [
    "#### Create a dataframe of variables that will be used as features in the training\n",
    "We cannot use the following variables as features in the training for the reasons mentioned below.\n",
    "- `wall-motion-score`: it is recommended to use `wall-motion-index` instead of this variable.\n",
    "- `mult`: it is suggested to ignore this variable.\n",
    "- `name`: the name of the patient (replaced them with \"name\"), so we are suggested to ignore it.\n",
    "- `group`: It is suggested to ignore this variable as it is meaningless.\n",
    "\n",
    "\n",
    "- `survival` and `still-alive`: these two variables are used to derive the target variable and hence encode the target variable. So, we cannot use them in the training.\n",
    "\n",
    "\n",
    "- `alive-at-1`: we cannot use this in training because in the future when we want to make predictions, we will not have this data. I did not use this variable to make any other decision during data preparation. Because,\n",
    "    - This variable does not seem to be extracted correctly. For instance,\n",
    "        - In some rows, `survival` column has values greater than 12, which indicates that patient was alive after 1 year. But value in `alive-at-1` column is 0 (value should have been 1).\n",
    "        - In some rows, patient is still alive as per the `still-alive` column, and survived for less than 12 months as per the `survival` column. But value in `alive-at-1` is 1 (we can not determine this value).\n",
    "        - In some rows, we know patient survived for more than 12 months. Still the value in `alive-at-1` is missing. In these cases the value should have been 1. Simiraly, in some rows, we know that the patient died before 12 months, so the value should have been 0, but the value is missing in dataset.\n",
    "        - Variable description says *0 means patient was either dead after 1 year or had been followed for less than 1 year.* This could mean two things;\n",
    "            - Patient had heart attack less than one year ago, so had been followed for less than 1 year. Or\n",
    "            - hospital lost touch with the patient within 1 year (e.g., patient moved to a different state/country) and do not know the status of the patient.\n",
    "            I considered the scenario 1 above to be true. If scenario 2 is true, in the rows where `alive-at-1` is 0, I would not know whether patient is dead or we just do not have information about these patients. This raises the question about validity of the data in first two columns as well. Since, description says this column is derived from first two attributes,I ignored this variable, and created my target variable based on the information in `survival` and `still-alive` columns."
   ]
  },
  {
   "cell_type": "code",
   "execution_count": 15,
   "metadata": {},
   "outputs": [
    {
     "data": {
      "text/plain": [
       "(71, 6)"
      ]
     },
     "execution_count": 15,
     "metadata": {},
     "output_type": "execute_result"
    }
   ],
   "source": [
    "# Drop unwanted columns\n",
    "features = df_echo_filtered.drop(['survival', 'still-alive', 'wall-motion-score', \n",
    "                                  'mult', 'name', 'group', 'alive-at-1'], axis = 1)\n",
    "features.shape"
   ]
  },
  {
   "cell_type": "markdown",
   "metadata": {},
   "source": [
    "<a id='de'></a>\n",
    "## Data Exploration"
   ]
  },
  {
   "cell_type": "markdown",
   "metadata": {},
   "source": [
    "<a id='mv'></a>\n",
    "### Missing Values\n",
    "As can be seen below, there are a few missing values in three of the features. We can handle the missing values in one of the following ways:\n",
    "\n",
    "1. Delete observations with missing value: since it is a small dataset, this is not a good option.\n",
    "2. Recover the missing value; not possible in this context. \n",
    "3. Imputation: \n",
    "    - Educated guessing: need good domain expertise to handle missing values in this way.\n",
    "    - Mean/median/mode imputation (single or multiple imputation).\n",
    "    - Using trend in the data to impute missing values. This is especially useful in time series analysis.\n",
    "    - Using regression or other machine learning algorithms to predict missing values: this is time consuming.\n",
    " \n",
    "I am going to use mean imputation to fill missing values in the variables. All the data pre-processing like imputation, feature scaling will be done after splitting the data into training and test set."
   ]
  },
  {
   "cell_type": "code",
   "execution_count": 16,
   "metadata": {},
   "outputs": [
    {
     "data": {
      "text/plain": [
       "age-at-heart-attack      0\n",
       "pericardial-effusion     0\n",
       "fractional-shortening    3\n",
       "epss                     8\n",
       "lvdd                     3\n",
       "wall-motion-index        0\n",
       "dtype: int64"
      ]
     },
     "execution_count": 16,
     "metadata": {},
     "output_type": "execute_result"
    }
   ],
   "source": [
    "# Number of missing values in each feature\n",
    "features.isnull().sum()"
   ]
  },
  {
   "cell_type": "markdown",
   "metadata": {},
   "source": [
    "<a id='dv'></a>\n",
    "### Distribution of Variables"
   ]
  },
  {
   "cell_type": "code",
   "execution_count": 17,
   "metadata": {},
   "outputs": [
    {
     "data": {
      "image/png": "[encoded data removed]",
      "text/plain": [
       "<Figure size 576x576 with 6 Axes>"
      ]
     },
     "metadata": {
      "needs_background": "light"
     },
     "output_type": "display_data"
    }
   ],
   "source": [
    "# Plot histograms of features\n",
    "features.hist(figsize=(8,8));"
   ]
  },
  {
   "cell_type": "code",
   "execution_count": 18,
   "metadata": {},
   "outputs": [
    {
     "data": {
      "image/png": "[encoded data removed]",
      "text/plain": [
       "<Figure size 432x288 with 1 Axes>"
      ]
     },
     "metadata": {
      "needs_background": "light"
     },
     "output_type": "display_data"
    }
   ],
   "source": [
    "features['age-at-heart-attack'].hist(bins=np.linspace(30, 85, 12))\n",
    "plt.title('Distribution of Age at Hear Attack')\n",
    "plt.xlabel('Age')\n",
    "plt.ylabel('Count')\n",
    "plt.yticks(range(1, 20, 3));"
   ]
  },
  {
   "cell_type": "markdown",
   "metadata": {},
   "source": [
    "<a id='ol'></a>\n",
    "### Outliers\n",
    "As can be seen in the boxplots below, there are a few outliers in each of the variables. Outliers could represent one of the following:\n",
    "\n",
    "- Errors in data collection.\n",
    "- They are legitimate value and may signify a trend.\n",
    "\n",
    "If second scenario above is true, we may want to retain the outliers. It is difficult to determine which of the above scenarios is true. So I do not remove any outliers."
   ]
  },
  {
   "cell_type": "code",
   "execution_count": 19,
   "metadata": {},
   "outputs": [
    {
     "data": {
      "image/png": "[encoded data removed]",
      "text/plain": [
       "<Figure size 1008x504 with 6 Axes>"
      ]
     },
     "metadata": {
      "needs_background": "light"
     },
     "output_type": "display_data"
    }
   ],
   "source": [
    "# Plot boxplots of features\n",
    "fig = plt.figure(figsize=(14, 7))\n",
    "for i, j in enumerate(features.columns):\n",
    "    ax = fig.add_subplot(2, 3, i+1)\n",
    "    sns.boxplot(y=features[j])\n",
    "    plt.xlabel(j)\n",
    "    plt.ylabel('Value')\n"
   ]
  },
  {
   "cell_type": "markdown",
   "metadata": {},
   "source": [
    "<a id='fs'></a>\n",
    "### Feature Scaling\n",
    "Feature like `age-at-heart-attack` that can take large values (range: 35-80) may overshadow the effect of features like `fractional-shortening` that takes small values (range: 0.036-0.61). To overcome this, the features will be scaled using StandardScaler, which normalizes the features. The features will be scaled after splitting the data into train and test set."
   ]
  },
  {
   "cell_type": "code",
   "execution_count": 20,
   "metadata": {},
   "outputs": [
    {
     "data": {
      "text/html": [
       "<div>\n",
       "<style scoped>\n",
       "    .dataframe tbody tr th:only-of-type {\n",
       "        vertical-align: middle;\n",
       "    }\n",
       "\n",
       "    .dataframe tbody tr th {\n",
       "        vertical-align: top;\n",
       "    }\n",
       "\n",
       "    .dataframe thead th {\n",
       "        text-align: right;\n",
       "    }\n",
       "</style>\n",
       "<table border=\"1\" class=\"dataframe\">\n",
       "  <thead>\n",
       "    <tr style=\"text-align: right;\">\n",
       "      <th></th>\n",
       "      <th>age-at-heart-attack</th>\n",
       "      <th>pericardial-effusion</th>\n",
       "      <th>fractional-shortening</th>\n",
       "      <th>epss</th>\n",
       "      <th>lvdd</th>\n",
       "      <th>wall-motion-index</th>\n",
       "    </tr>\n",
       "  </thead>\n",
       "  <tbody>\n",
       "    <tr>\n",
       "      <th>amin</th>\n",
       "      <td>35.0</td>\n",
       "      <td>0</td>\n",
       "      <td>0.036</td>\n",
       "      <td>0.0</td>\n",
       "      <td>3.10</td>\n",
       "      <td>1.00</td>\n",
       "    </tr>\n",
       "    <tr>\n",
       "      <th>amax</th>\n",
       "      <td>80.0</td>\n",
       "      <td>1</td>\n",
       "      <td>0.610</td>\n",
       "      <td>31.0</td>\n",
       "      <td>6.78</td>\n",
       "      <td>2.39</td>\n",
       "    </tr>\n",
       "  </tbody>\n",
       "</table>\n",
       "</div>"
      ],
      "text/plain": [
       "      age-at-heart-attack  pericardial-effusion  fractional-shortening  epss  \\\n",
       "amin                 35.0                     0                  0.036   0.0   \n",
       "amax                 80.0                     1                  0.610  31.0   \n",
       "\n",
       "      lvdd  wall-motion-index  \n",
       "amin  3.10               1.00  \n",
       "amax  6.78               2.39  "
      ]
     },
     "execution_count": 20,
     "metadata": {},
     "output_type": "execute_result"
    }
   ],
   "source": [
    "# Range of different features\n",
    "features.agg([np.min, np.max])"
   ]
  },
  {
   "cell_type": "markdown",
   "metadata": {},
   "source": [
    "<a id='cf'></a>\n",
    "### Correlation Among Features\n",
    "Check if any of the features are correlated. If two features are highly correlated, we can remove one of them.\n",
    "\n",
    "As you can see in the heat map and scatter matrix below, there is a moderate correlation between the following features.\n",
    "- fractional-shortening and epss\n",
    "- fractional-shortening and ivdd\n",
    "- ivdd and epss\n",
    "\n",
    "Since the correlation is only moderate, I do not remove any of the features."
   ]
  },
  {
   "cell_type": "code",
   "execution_count": 21,
   "metadata": {},
   "outputs": [
    {
     "data": {
      "image/png": "[encoded data removed]",
      "text/plain": [
       "<Figure size 432x288 with 2 Axes>"
      ]
     },
     "metadata": {
      "needs_background": "light"
     },
     "output_type": "display_data"
    }
   ],
   "source": [
    "# Find out correlation among features\n",
    "matrix = np.triu(features.corr())\n",
    "sns.heatmap(features.corr(), annot=True, mask=matrix);"
   ]
  },
  {
   "cell_type": "code",
   "execution_count": 22,
   "metadata": {},
   "outputs": [
    {
     "data": {
      "image/png": "[encoded data removed]",
      "text/plain": [
       "<Figure size 864x864 with 36 Axes>"
      ]
     },
     "metadata": {
      "needs_background": "light"
     },
     "output_type": "display_data"
    }
   ],
   "source": [
    "# Plot scatter-matrix of features\n",
    "pd.plotting.scatter_matrix(features, figsize=(12,12));"
   ]
  },
  {
   "cell_type": "markdown",
   "metadata": {},
   "source": [
    "<a id='pm'></a>\n",
    "## Predictive Modeling"
   ]
  },
  {
   "cell_type": "markdown",
   "metadata": {},
   "source": [
    "<a id='tt'></a>\n",
    "### Train-Test Split"
   ]
  },
  {
   "cell_type": "code",
   "execution_count": 23,
   "metadata": {},
   "outputs": [
    {
     "name": "stdout",
     "output_type": "stream",
     "text": [
      "Training set has 53 samples.\n",
      "Testing set has 18 samples.\n"
     ]
    }
   ],
   "source": [
    "# Import train_test_split\n",
    "from sklearn.model_selection import train_test_split\n",
    "\n",
    "# Split the data into training and testing sets\n",
    "X_train, X_test, y_train, y_test = train_test_split(features, \n",
    "                                                    target, \n",
    "                                                    test_size=0.25, \n",
    "                                                    random_state=0, \n",
    "                                                    shuffle=True)\n",
    "\n",
    "# Show the results of the split\n",
    "print(\"Training set has {} samples.\".format(X_train.shape[0]))\n",
    "print(\"Testing set has {} samples.\".format(X_test.shape[0]))"
   ]
  },
  {
   "cell_type": "markdown",
   "metadata": {},
   "source": [
    "<a id='im'></a>\n",
    "### Impute Missing Values"
   ]
  },
  {
   "cell_type": "code",
   "execution_count": 24,
   "metadata": {},
   "outputs": [],
   "source": [
    "from sklearn.impute import SimpleImputer\n",
    "imp = SimpleImputer(missing_values=np.nan, strategy='mean')\n",
    "imp.fit(X_train)\n",
    "X_train_imp = imp.transform(X_train)\n",
    "X_test_imp = imp.transform(X_test) # Use the same imputer that is fit using training data"
   ]
  },
  {
   "cell_type": "markdown",
   "metadata": {},
   "source": [
    "<a id='sf'></a>\n",
    "### Scale Features \n",
    "I have used StdScaler for scaling the features."
   ]
  },
  {
   "cell_type": "code",
   "execution_count": 25,
   "metadata": {},
   "outputs": [],
   "source": [
    "from sklearn.preprocessing import StandardScaler\n",
    "scaler = StandardScaler()\n",
    "scaler.fit(X_train_imp)\n",
    "X_train_imp_scaled = scaler.transform(X_train_imp)\n",
    "X_test_imp_scaled = scaler.transform(X_test_imp) # Use the same scaler that is fit using training data"
   ]
  },
  {
   "cell_type": "markdown",
   "metadata": {},
   "source": [
    "<a id='lr'></a>\n",
    "### Logistic Regression (Model 1/Benchmark Model)\n",
    "First, I will train a simple logistic regression model, which also serves as a benchmark model. \n",
    "\n",
    "The benchmark models help us to make sure (1) our model is performing better than some trivial models (2) the problem we are working on has a useful target function.\n",
    "\n",
    "If a previous model exists in the literature or with us, we can use it as a benchmark model. Otherwise we can create a simple model (e.g., linear/logistic regression/decision stumps) that serves as a benchmark model."
   ]
  },
  {
   "cell_type": "markdown",
   "metadata": {},
   "source": [
    "<a id='lrh'></a>\n",
    "### Logistic Regression Hyper-parameter Tuning"
   ]
  },
  {
   "cell_type": "code",
   "execution_count": 26,
   "metadata": {},
   "outputs": [],
   "source": [
    "from sklearn.model_selection import GridSearchCV\n",
    "from sklearn.metrics import f1_score, accuracy_score, recall_score, precision_score\n",
    "from sklearn.metrics import confusion_matrix\n",
    "from sklearn.metrics import classification_report\n",
    "\n",
    "# A function to do gridsearch\n",
    "def fit_model(X, y, clf, params):\n",
    "    \"\"\" Performs grid search on the input data [X, y] using classifier 'clf'\n",
    "    and parameter grid 'parms'.\n",
    "    \"\"\"\n",
    "\n",
    "    # Create the grid search cv object\n",
    "    # Since dataset is imbalanced f1_macro is used as evaluation metric\n",
    "    grid = GridSearchCV(estimator=clf, param_grid=params, scoring='f1_macro', cv=5)\n",
    "\n",
    "    # Fit the grid search object to the data \n",
    "    grid = grid.fit(X, y)\n",
    "\n",
    "    # Return the optimal model after fitting the data\n",
    "    return grid.best_estimator_\n"
   ]
  },
  {
   "cell_type": "code",
   "execution_count": 27,
   "metadata": {},
   "outputs": [
    {
     "name": "stdout",
     "output_type": "stream",
     "text": [
      "Hyperparameters for the optimal model {'C': 0.1, 'class_weight': 'balanced', 'dual': False, 'fit_intercept': True, 'intercept_scaling': 1, 'l1_ratio': None, 'max_iter': 100, 'multi_class': 'auto', 'n_jobs': None, 'penalty': 'l2', 'random_state': 42, 'solver': 'newton-cg', 'tol': 0.0001, 'verbose': 0, 'warm_start': False}.\n"
     ]
    }
   ],
   "source": [
    "from sklearn.linear_model import LogisticRegression\n",
    "import warnings\n",
    "warnings.filterwarnings(\"ignore\")\n",
    "# Initialize the classifier\n",
    "clf_lr = LogisticRegression(class_weight='balanced', random_state=42)\n",
    "\n",
    "# Parameter grid\n",
    "params = {\"C\": [0.01, 0.1, 1, 10, 100],\n",
    "         \"max_iter\":[100, 200],\n",
    "         \"solver\":['newton-cg', 'lbfgs', 'liblinear', 'sag', 'saga']}\n",
    "\n",
    "# Fit the training data to the model using grid search\n",
    "log_reg = fit_model(X_train_imp_scaled, y_train, clf_lr, params)\n",
    "\n",
    "\n",
    "# Print the optimal hyperparameters\n",
    "print(\"Hyperparameters for the optimal model {}.\".format(log_reg.get_params()))"
   ]
  },
  {
   "cell_type": "markdown",
   "metadata": {},
   "source": [
    "<a id='lre'></a>\n",
    "### Logistic Regression Model Evaluation"
   ]
  },
  {
   "cell_type": "code",
   "execution_count": 28,
   "metadata": {},
   "outputs": [],
   "source": [
    "def model_evaluation(true, predict):\n",
    "    \"\"\"Takes true and predicted labels as input and prints various\n",
    "    evaluation metrics. Although, F1 Score is main metric used for\n",
    "    evaluation purpose, this function prints other metrics as well \n",
    "    for reference purpose.\n",
    "    \"\"\"\n",
    "    print(\"Accuracy: {:.2f}\".format(accuracy_score(true, predict)))\n",
    "    print(\"Precision: {:.2f}\".format(precision_score(true, predict)))\n",
    "    print(\"Recall: {:.2f}\".format(recall_score(true, predict)))\n",
    "    print(\"f1_macro: {:.2f}\".format(f1_score(true, predict, average='macro')))\n",
    "    \n",
    "    print('\\nEvaluation Metrics for both classes')\n",
    "    print('-----------------------------------')\n",
    "    print(classification_report(true, predict))\n",
    "    \n",
    "    print('\\nConfusion Matrix')\n",
    "    print('-----------------------------------')\n",
    "    print(pd.DataFrame(confusion_matrix(true, predict), columns=['Predicted_dead', 'Predicted_alive'],\n",
    "            index=['Actual_dead', 'Actual_alive']))"
   ]
  },
  {
   "cell_type": "code",
   "execution_count": 29,
   "metadata": {},
   "outputs": [
    {
     "name": "stdout",
     "output_type": "stream",
     "text": [
      "Accuracy: 0.50\n",
      "Precision: 0.60\n",
      "Recall: 0.55\n",
      "f1_macro: 0.49\n",
      "\n",
      "Evaluation Metrics for both classes\n",
      "-----------------------------------\n",
      "              precision    recall  f1-score   support\n",
      "\n",
      "           0       0.38      0.43      0.40         7\n",
      "           1       0.60      0.55      0.57        11\n",
      "\n",
      "    accuracy                           0.50        18\n",
      "   macro avg       0.49      0.49      0.49        18\n",
      "weighted avg       0.51      0.50      0.50        18\n",
      "\n",
      "\n",
      "Confusion Matrix\n",
      "-----------------------------------\n",
      "              Predicted_dead  Predicted_alive\n",
      "Actual_dead                3                4\n",
      "Actual_alive               5                6\n"
     ]
    }
   ],
   "source": [
    "# Make predictions on test set and evaluate performance\n",
    "predictions_lr = log_reg.predict(X_test_imp_scaled)\n",
    "model_evaluation(y_test, predictions_lr)"
   ]
  },
  {
   "cell_type": "code",
   "execution_count": 30,
   "metadata": {},
   "outputs": [
    {
     "data": {
      "text/plain": [
       "Index(['age-at-heart-attack', 'pericardial-effusion', 'fractional-shortening',\n",
       "       'epss', 'lvdd', 'wall-motion-index'],\n",
       "      dtype='object')"
      ]
     },
     "execution_count": 30,
     "metadata": {},
     "output_type": "execute_result"
    }
   ],
   "source": [
    "features.columns"
   ]
  },
  {
   "cell_type": "code",
   "execution_count": 31,
   "metadata": {},
   "outputs": [
    {
     "data": {
      "text/html": [
       "<div>\n",
       "<style scoped>\n",
       "    .dataframe tbody tr th:only-of-type {\n",
       "        vertical-align: middle;\n",
       "    }\n",
       "\n",
       "    .dataframe tbody tr th {\n",
       "        vertical-align: top;\n",
       "    }\n",
       "\n",
       "    .dataframe thead th {\n",
       "        text-align: right;\n",
       "    }\n",
       "</style>\n",
       "<table border=\"1\" class=\"dataframe\">\n",
       "  <thead>\n",
       "    <tr style=\"text-align: right;\">\n",
       "      <th></th>\n",
       "      <th>Features</th>\n",
       "      <th>Estimated Coefficients</th>\n",
       "    </tr>\n",
       "  </thead>\n",
       "  <tbody>\n",
       "    <tr>\n",
       "      <th>0</th>\n",
       "      <td>age-at-heart-attack</td>\n",
       "      <td>-0.320106</td>\n",
       "    </tr>\n",
       "    <tr>\n",
       "      <th>1</th>\n",
       "      <td>pericardial-effusion</td>\n",
       "      <td>-0.165535</td>\n",
       "    </tr>\n",
       "    <tr>\n",
       "      <th>2</th>\n",
       "      <td>fractional-shortening</td>\n",
       "      <td>-0.041078</td>\n",
       "    </tr>\n",
       "    <tr>\n",
       "      <th>3</th>\n",
       "      <td>epss</td>\n",
       "      <td>0.144547</td>\n",
       "    </tr>\n",
       "    <tr>\n",
       "      <th>4</th>\n",
       "      <td>lvdd</td>\n",
       "      <td>-0.219591</td>\n",
       "    </tr>\n",
       "    <tr>\n",
       "      <th>5</th>\n",
       "      <td>wall-motion-index</td>\n",
       "      <td>-0.140286</td>\n",
       "    </tr>\n",
       "  </tbody>\n",
       "</table>\n",
       "</div>"
      ],
      "text/plain": [
       "                Features  Estimated Coefficients\n",
       "0    age-at-heart-attack               -0.320106\n",
       "1   pericardial-effusion               -0.165535\n",
       "2  fractional-shortening               -0.041078\n",
       "3                   epss                0.144547\n",
       "4                   lvdd               -0.219591\n",
       "5      wall-motion-index               -0.140286"
      ]
     },
     "execution_count": 31,
     "metadata": {},
     "output_type": "execute_result"
    }
   ],
   "source": [
    "# Get the coefficients to find out the most important feature\n",
    "pd.DataFrame({'Features': features.columns, 'Estimated Coefficients': log_reg.coef_[0]})"
   ]
  },
  {
   "cell_type": "markdown",
   "metadata": {},
   "source": [
    "<a id='sm'></a>\n",
    "## Selection of Model (Algorithm)\n",
    "In this section, I am going to examine which algorithm works best for this problem. I am going to test several algorithms to see which one works better: since the dataset is small, it is reasonable to test several algorithms."
   ]
  },
  {
   "cell_type": "code",
   "execution_count": 32,
   "metadata": {},
   "outputs": [],
   "source": [
    "from sklearn.svm import SVC\n",
    "from sklearn.neighbors import KNeighborsClassifier\n",
    "from sklearn.ensemble import AdaBoostClassifier, GradientBoostingClassifier, BaggingClassifier\n",
    "from sklearn.tree import DecisionTreeClassifier\n",
    "from sklearn.naive_bayes import GaussianNB\n",
    "from sklearn.ensemble import RandomForestClassifier\n",
    "from sklearn.linear_model import SGDClassifier\n",
    "from sklearn.neural_network import MLPClassifier\n",
    "\n",
    "# Algorithms to test\n",
    "clf_a = GaussianNB()\n",
    "clf_b = DecisionTreeClassifier(random_state=42)\n",
    "clf_c = SVC(random_state=42, class_weight='balanced')\n",
    "clf_d = KNeighborsClassifier()\n",
    "clf_e = SGDClassifier(random_state=42, class_weight='balanced')\n",
    "\n",
    "# Ensembles\n",
    "clf_f = BaggingClassifier(random_state=42)\n",
    "clf_g = RandomForestClassifier(random_state=42, class_weight='balanced')\n",
    "clf_h = AdaBoostClassifier(random_state=42)\n",
    "clf_i = GradientBoostingClassifier(random_state=42)\n",
    "\n",
    "# Deep Learning\n",
    "clf_j = MLPClassifier(solver='lbfgs', hidden_layer_sizes=(100, 50), random_state=42)\n"
   ]
  },
  {
   "cell_type": "code",
   "execution_count": 33,
   "metadata": {},
   "outputs": [
    {
     "data": {
      "text/html": [
       "<div>\n",
       "<style scoped>\n",
       "    .dataframe tbody tr th:only-of-type {\n",
       "        vertical-align: middle;\n",
       "    }\n",
       "\n",
       "    .dataframe tbody tr th {\n",
       "        vertical-align: top;\n",
       "    }\n",
       "\n",
       "    .dataframe thead th {\n",
       "        text-align: right;\n",
       "    }\n",
       "</style>\n",
       "<table border=\"1\" class=\"dataframe\">\n",
       "  <thead>\n",
       "    <tr style=\"text-align: right;\">\n",
       "      <th></th>\n",
       "      <th>clf</th>\n",
       "      <th>f1_macro</th>\n",
       "    </tr>\n",
       "  </thead>\n",
       "  <tbody>\n",
       "    <tr>\n",
       "      <th>0</th>\n",
       "      <td>GaussianNB</td>\n",
       "      <td>0.509488</td>\n",
       "    </tr>\n",
       "    <tr>\n",
       "      <th>1</th>\n",
       "      <td>DecisionTreeClassifier</td>\n",
       "      <td>0.627075</td>\n",
       "    </tr>\n",
       "    <tr>\n",
       "      <th>2</th>\n",
       "      <td>SVC</td>\n",
       "      <td>0.476097</td>\n",
       "    </tr>\n",
       "    <tr>\n",
       "      <th>3</th>\n",
       "      <td>KNeighborsClassifier</td>\n",
       "      <td>0.429663</td>\n",
       "    </tr>\n",
       "    <tr>\n",
       "      <th>4</th>\n",
       "      <td>SGDClassifier</td>\n",
       "      <td>0.516686</td>\n",
       "    </tr>\n",
       "    <tr>\n",
       "      <th>5</th>\n",
       "      <td>BaggingClassifier</td>\n",
       "      <td>0.596520</td>\n",
       "    </tr>\n",
       "    <tr>\n",
       "      <th>6</th>\n",
       "      <td>RandomForestClassifier</td>\n",
       "      <td>0.489336</td>\n",
       "    </tr>\n",
       "    <tr>\n",
       "      <th>7</th>\n",
       "      <td>AdaBoostClassifier</td>\n",
       "      <td>0.617908</td>\n",
       "    </tr>\n",
       "    <tr>\n",
       "      <th>8</th>\n",
       "      <td>GradientBoostingClassifier</td>\n",
       "      <td>0.491340</td>\n",
       "    </tr>\n",
       "    <tr>\n",
       "      <th>9</th>\n",
       "      <td>MLPClassifier</td>\n",
       "      <td>0.437035</td>\n",
       "    </tr>\n",
       "  </tbody>\n",
       "</table>\n",
       "</div>"
      ],
      "text/plain": [
       "                          clf  f1_macro\n",
       "0                  GaussianNB  0.509488\n",
       "1      DecisionTreeClassifier  0.627075\n",
       "2                         SVC  0.476097\n",
       "3        KNeighborsClassifier  0.429663\n",
       "4               SGDClassifier  0.516686\n",
       "5           BaggingClassifier  0.596520\n",
       "6      RandomForestClassifier  0.489336\n",
       "7          AdaBoostClassifier  0.617908\n",
       "8  GradientBoostingClassifier  0.491340\n",
       "9               MLPClassifier  0.437035"
      ]
     },
     "execution_count": 33,
     "metadata": {},
     "output_type": "execute_result"
    }
   ],
   "source": [
    "# Select algorithm using cross validation\n",
    "from sklearn.model_selection import cross_val_score\n",
    "\n",
    "f1_macro_list = []\n",
    "clf_names = []\n",
    "for c in [clf_a, clf_b, clf_c, clf_d, clf_e, clf_f, clf_g, clf_h, clf_i, clf_j]:\n",
    "    scores = cross_val_score(c, X_train_imp_scaled, y_train, cv=5, scoring='f1_macro')\n",
    "    scores.mean()\n",
    "    f1_macro_list.append(scores.mean())\n",
    "    clf_names.append(c.__class__.__name__)\n",
    "scores = {'clf': clf_names, 'f1_macro': f1_macro_list}\n",
    "df = pd.DataFrame(scores)\n",
    "df"
   ]
  },
  {
   "cell_type": "markdown",
   "metadata": {},
   "source": [
    "<a id='dt'></a>\n",
    "### Decision Tree (Model 2/Final Chosen Algorithm)\n",
    "I have tried several algorithms above. Among them, decision tree gave the highest F1 score. So I have chosen Decision tree as my final algorithm."
   ]
  },
  {
   "cell_type": "markdown",
   "metadata": {},
   "source": [
    "<a id='dth'></a>\n",
    "### Decision Tree Hyper-parameter Tuning"
   ]
  },
  {
   "cell_type": "code",
   "execution_count": 34,
   "metadata": {},
   "outputs": [
    {
     "name": "stdout",
     "output_type": "stream",
     "text": [
      "Hyperparameters for the optimal model {'ccp_alpha': 0.0, 'class_weight': None, 'criterion': 'gini', 'max_depth': 6, 'max_features': 'auto', 'max_leaf_nodes': None, 'min_impurity_decrease': 0.0, 'min_impurity_split': None, 'min_samples_leaf': 2, 'min_samples_split': 8, 'min_weight_fraction_leaf': 0.0, 'presort': 'deprecated', 'random_state': 42, 'splitter': 'best'}.\n",
      "Wall time: 1.82 s\n"
     ]
    }
   ],
   "source": [
    "%%time\n",
    "# Initialize the classifier\n",
    "clf_dt = DecisionTreeClassifier(random_state=42)\n",
    "\n",
    "# Parameter grid\n",
    "params = {'max_depth': [2,4,6,8,10,20,None],\n",
    "          'max_features': ['auto', 'sqrt', 'log2'],\n",
    "          'min_samples_leaf': [1,2,4],\n",
    "          'min_samples_split': [6,8,10]}\n",
    "\n",
    "# Fit the training data to the model using grid search\n",
    "dec_tree = fit_model(X_train_imp_scaled, y_train, clf_dt, params)\n",
    "\n",
    "\n",
    "# Print the optimal hyperparameters\n",
    "print(\"Hyperparameters for the optimal model {}.\".format(dec_tree.get_params()))"
   ]
  },
  {
   "cell_type": "markdown",
   "metadata": {},
   "source": [
    "<a id='dte'></a>\n",
    "### Decision Tree Model Evaluation"
   ]
  },
  {
   "cell_type": "code",
   "execution_count": 35,
   "metadata": {},
   "outputs": [
    {
     "name": "stdout",
     "output_type": "stream",
     "text": [
      "Accuracy: 0.61\n",
      "Precision: 0.70\n",
      "Recall: 0.64\n",
      "f1_macro: 0.60\n",
      "\n",
      "Evaluation Metrics for both classes\n",
      "-----------------------------------\n",
      "              precision    recall  f1-score   support\n",
      "\n",
      "           0       0.50      0.57      0.53         7\n",
      "           1       0.70      0.64      0.67        11\n",
      "\n",
      "    accuracy                           0.61        18\n",
      "   macro avg       0.60      0.60      0.60        18\n",
      "weighted avg       0.62      0.61      0.61        18\n",
      "\n",
      "\n",
      "Confusion Matrix\n",
      "-----------------------------------\n",
      "              Predicted_dead  Predicted_alive\n",
      "Actual_dead                4                3\n",
      "Actual_alive               4                7\n"
     ]
    }
   ],
   "source": [
    "# Make predictions on test set and evaluate performance\n",
    "predictions_dt = dec_tree.predict(X_test_imp_scaled)\n",
    "model_evaluation(y_test, predictions_dt)"
   ]
  },
  {
   "cell_type": "code",
   "execution_count": 36,
   "metadata": {},
   "outputs": [
    {
     "data": {
      "text/html": [
       "<div>\n",
       "<style scoped>\n",
       "    .dataframe tbody tr th:only-of-type {\n",
       "        vertical-align: middle;\n",
       "    }\n",
       "\n",
       "    .dataframe tbody tr th {\n",
       "        vertical-align: top;\n",
       "    }\n",
       "\n",
       "    .dataframe thead th {\n",
       "        text-align: right;\n",
       "    }\n",
       "</style>\n",
       "<table border=\"1\" class=\"dataframe\">\n",
       "  <thead>\n",
       "    <tr style=\"text-align: right;\">\n",
       "      <th></th>\n",
       "      <th>Features</th>\n",
       "      <th>Feature Score</th>\n",
       "    </tr>\n",
       "  </thead>\n",
       "  <tbody>\n",
       "    <tr>\n",
       "      <th>0</th>\n",
       "      <td>age-at-heart-attack</td>\n",
       "      <td>0.180100</td>\n",
       "    </tr>\n",
       "    <tr>\n",
       "      <th>1</th>\n",
       "      <td>pericardial-effusion</td>\n",
       "      <td>0.000000</td>\n",
       "    </tr>\n",
       "    <tr>\n",
       "      <th>2</th>\n",
       "      <td>fractional-shortening</td>\n",
       "      <td>0.055811</td>\n",
       "    </tr>\n",
       "    <tr>\n",
       "      <th>3</th>\n",
       "      <td>epss</td>\n",
       "      <td>0.286492</td>\n",
       "    </tr>\n",
       "    <tr>\n",
       "      <th>4</th>\n",
       "      <td>lvdd</td>\n",
       "      <td>0.000000</td>\n",
       "    </tr>\n",
       "    <tr>\n",
       "      <th>5</th>\n",
       "      <td>wall-motion-index</td>\n",
       "      <td>0.477597</td>\n",
       "    </tr>\n",
       "  </tbody>\n",
       "</table>\n",
       "</div>"
      ],
      "text/plain": [
       "                Features  Feature Score\n",
       "0    age-at-heart-attack       0.180100\n",
       "1   pericardial-effusion       0.000000\n",
       "2  fractional-shortening       0.055811\n",
       "3                   epss       0.286492\n",
       "4                   lvdd       0.000000\n",
       "5      wall-motion-index       0.477597"
      ]
     },
     "execution_count": 36,
     "metadata": {},
     "output_type": "execute_result"
    }
   ],
   "source": [
    "# Get the feature imporatance\n",
    "pd.DataFrame({'Features': features.columns, 'Feature Score': dec_tree.feature_importances_})"
   ]
  },
  {
   "cell_type": "markdown",
   "metadata": {},
   "source": [
    "<a id='pn'></a>\n",
    "## Predicting New Unseen Data\n",
    "In this section, I am going to apply the two models I trained above to `echocardiogram.test` and label this unseen dataset. I preprocessed this data in the same way as I preprocessed the training data."
   ]
  },
  {
   "cell_type": "markdown",
   "metadata": {},
   "source": [
    "<font color='blue'>**Note:**</font> In line 16 of the echocardiogram.test file, there are 14 columns instead of 13. This happened because, in 3rd column, which is supposed to be age-at-heart-attack, a value of 1 is additionally inserted. So, I removed this value. Then every column seems right; for instance, every row in column 11 has the value *name* after this cleaning."
   ]
  },
  {
   "cell_type": "code",
   "execution_count": 37,
   "metadata": {},
   "outputs": [],
   "source": [
    "# Read new data\n",
    "df_echo_new = pd.read_csv(\"echocardiogram.test\", header=None)\n",
    "df_echo_new.columns = col_names"
   ]
  },
  {
   "cell_type": "code",
   "execution_count": 38,
   "metadata": {},
   "outputs": [],
   "source": [
    "# Change ? to np.nap for programmatic handling of the missing values\n",
    "df_echo_new = df_echo_new.replace('?', np.nan)"
   ]
  },
  {
   "cell_type": "code",
   "execution_count": 39,
   "metadata": {},
   "outputs": [],
   "source": [
    "# Change the datatype of columns to suitable datatype\n",
    "df_echo_new = df_echo_new.astype(dtype={'age-at-heart-attack':'float', \n",
    "                                'fractional-shortening':'float',\n",
    "                                'epss':'float',\n",
    "                                'lvdd':'float',\n",
    "                                'wall-motion-score':'float',\n",
    "                                'wall-motion-index':'float',\n",
    "                                'mult':'float',\n",
    "                                })\n"
   ]
  },
  {
   "cell_type": "code",
   "execution_count": 40,
   "metadata": {},
   "outputs": [
    {
     "data": {
      "text/html": [
       "<div>\n",
       "<style scoped>\n",
       "    .dataframe tbody tr th:only-of-type {\n",
       "        vertical-align: middle;\n",
       "    }\n",
       "\n",
       "    .dataframe tbody tr th {\n",
       "        vertical-align: top;\n",
       "    }\n",
       "\n",
       "    .dataframe thead th {\n",
       "        text-align: right;\n",
       "    }\n",
       "</style>\n",
       "<table border=\"1\" class=\"dataframe\">\n",
       "  <thead>\n",
       "    <tr style=\"text-align: right;\">\n",
       "      <th></th>\n",
       "      <th>survival</th>\n",
       "      <th>still-alive</th>\n",
       "      <th>age-at-heart-attack</th>\n",
       "      <th>pericardial-effusion</th>\n",
       "      <th>fractional-shortening</th>\n",
       "      <th>epss</th>\n",
       "      <th>lvdd</th>\n",
       "      <th>wall-motion-score</th>\n",
       "      <th>wall-motion-index</th>\n",
       "      <th>mult</th>\n",
       "      <th>name</th>\n",
       "      <th>group</th>\n",
       "      <th>alive-at-1</th>\n",
       "    </tr>\n",
       "  </thead>\n",
       "  <tbody>\n",
       "    <tr>\n",
       "      <th>0</th>\n",
       "      <td>NaN</td>\n",
       "      <td>NaN</td>\n",
       "      <td>61.0</td>\n",
       "      <td>0</td>\n",
       "      <td>0.27</td>\n",
       "      <td>9.0</td>\n",
       "      <td>4.06</td>\n",
       "      <td>12.0</td>\n",
       "      <td>1.00</td>\n",
       "      <td>0.857</td>\n",
       "      <td>name</td>\n",
       "      <td>NaN</td>\n",
       "      <td>NaN</td>\n",
       "    </tr>\n",
       "    <tr>\n",
       "      <th>1</th>\n",
       "      <td>NaN</td>\n",
       "      <td>NaN</td>\n",
       "      <td>59.0</td>\n",
       "      <td>1</td>\n",
       "      <td>0.40</td>\n",
       "      <td>9.2</td>\n",
       "      <td>5.36</td>\n",
       "      <td>12.0</td>\n",
       "      <td>1.00</td>\n",
       "      <td>0.857</td>\n",
       "      <td>name</td>\n",
       "      <td>NaN</td>\n",
       "      <td>NaN</td>\n",
       "    </tr>\n",
       "    <tr>\n",
       "      <th>2</th>\n",
       "      <td>NaN</td>\n",
       "      <td>NaN</td>\n",
       "      <td>57.0</td>\n",
       "      <td>0</td>\n",
       "      <td>0.29</td>\n",
       "      <td>9.4</td>\n",
       "      <td>4.77</td>\n",
       "      <td>9.0</td>\n",
       "      <td>1.00</td>\n",
       "      <td>0.640</td>\n",
       "      <td>name</td>\n",
       "      <td>NaN</td>\n",
       "      <td>NaN</td>\n",
       "    </tr>\n",
       "    <tr>\n",
       "      <th>3</th>\n",
       "      <td>NaN</td>\n",
       "      <td>NaN</td>\n",
       "      <td>62.0</td>\n",
       "      <td>1</td>\n",
       "      <td>0.19</td>\n",
       "      <td>28.9</td>\n",
       "      <td>6.63</td>\n",
       "      <td>19.5</td>\n",
       "      <td>1.95</td>\n",
       "      <td>0.714</td>\n",
       "      <td>name</td>\n",
       "      <td>NaN</td>\n",
       "      <td>NaN</td>\n",
       "    </tr>\n",
       "    <tr>\n",
       "      <th>4</th>\n",
       "      <td>NaN</td>\n",
       "      <td>NaN</td>\n",
       "      <td>NaN</td>\n",
       "      <td>0</td>\n",
       "      <td>0.26</td>\n",
       "      <td>0.0</td>\n",
       "      <td>4.38</td>\n",
       "      <td>9.0</td>\n",
       "      <td>1.00</td>\n",
       "      <td>0.640</td>\n",
       "      <td>name</td>\n",
       "      <td>NaN</td>\n",
       "      <td>NaN</td>\n",
       "    </tr>\n",
       "  </tbody>\n",
       "</table>\n",
       "</div>"
      ],
      "text/plain": [
       "   survival  still-alive  age-at-heart-attack  pericardial-effusion  \\\n",
       "0       NaN          NaN                 61.0                     0   \n",
       "1       NaN          NaN                 59.0                     1   \n",
       "2       NaN          NaN                 57.0                     0   \n",
       "3       NaN          NaN                 62.0                     1   \n",
       "4       NaN          NaN                  NaN                     0   \n",
       "\n",
       "   fractional-shortening  epss  lvdd  wall-motion-score  wall-motion-index  \\\n",
       "0                   0.27   9.0  4.06               12.0               1.00   \n",
       "1                   0.40   9.2  5.36               12.0               1.00   \n",
       "2                   0.29   9.4  4.77                9.0               1.00   \n",
       "3                   0.19  28.9  6.63               19.5               1.95   \n",
       "4                   0.26   0.0  4.38                9.0               1.00   \n",
       "\n",
       "    mult  name  group  alive-at-1  \n",
       "0  0.857  name    NaN         NaN  \n",
       "1  0.857  name    NaN         NaN  \n",
       "2  0.640  name    NaN         NaN  \n",
       "3  0.714  name    NaN         NaN  \n",
       "4  0.640  name    NaN         NaN  "
      ]
     },
     "execution_count": 40,
     "metadata": {},
     "output_type": "execute_result"
    }
   ],
   "source": [
    "df_echo_new.head()"
   ]
  },
  {
   "cell_type": "code",
   "execution_count": 41,
   "metadata": {},
   "outputs": [],
   "source": [
    "# Drop unwanted columns and create a feature dataframe\n",
    "features_new = df_echo_new.drop(['survival', 'still-alive', 'wall-motion-score', \n",
    "                                  'mult', 'name', 'group', 'alive-at-1'], axis = 1)"
   ]
  },
  {
   "cell_type": "code",
   "execution_count": 42,
   "metadata": {},
   "outputs": [
    {
     "data": {
      "text/html": [
       "<div>\n",
       "<style scoped>\n",
       "    .dataframe tbody tr th:only-of-type {\n",
       "        vertical-align: middle;\n",
       "    }\n",
       "\n",
       "    .dataframe tbody tr th {\n",
       "        vertical-align: top;\n",
       "    }\n",
       "\n",
       "    .dataframe thead th {\n",
       "        text-align: right;\n",
       "    }\n",
       "</style>\n",
       "<table border=\"1\" class=\"dataframe\">\n",
       "  <thead>\n",
       "    <tr style=\"text-align: right;\">\n",
       "      <th></th>\n",
       "      <th>age-at-heart-attack</th>\n",
       "      <th>pericardial-effusion</th>\n",
       "      <th>fractional-shortening</th>\n",
       "      <th>epss</th>\n",
       "      <th>lvdd</th>\n",
       "      <th>wall-motion-index</th>\n",
       "    </tr>\n",
       "  </thead>\n",
       "  <tbody>\n",
       "    <tr>\n",
       "      <th>amin</th>\n",
       "      <td>48.0</td>\n",
       "      <td>0</td>\n",
       "      <td>0.09</td>\n",
       "      <td>0.0</td>\n",
       "      <td>2.32</td>\n",
       "      <td>1.00</td>\n",
       "    </tr>\n",
       "    <tr>\n",
       "      <th>amax</th>\n",
       "      <td>69.0</td>\n",
       "      <td>1</td>\n",
       "      <td>0.43</td>\n",
       "      <td>28.9</td>\n",
       "      <td>6.63</td>\n",
       "      <td>1.95</td>\n",
       "    </tr>\n",
       "  </tbody>\n",
       "</table>\n",
       "</div>"
      ],
      "text/plain": [
       "      age-at-heart-attack  pericardial-effusion  fractional-shortening  epss  \\\n",
       "amin                 48.0                     0                   0.09   0.0   \n",
       "amax                 69.0                     1                   0.43  28.9   \n",
       "\n",
       "      lvdd  wall-motion-index  \n",
       "amin  2.32               1.00  \n",
       "amax  6.63               1.95  "
      ]
     },
     "execution_count": 42,
     "metadata": {},
     "output_type": "execute_result"
    }
   ],
   "source": [
    "# Range of different features in the unseen data\n",
    "features_new.agg([np.min, np.max])"
   ]
  },
  {
   "cell_type": "code",
   "execution_count": 43,
   "metadata": {},
   "outputs": [],
   "source": [
    "# Impute missing values using the same imputer fit using training data earlier.\n",
    "features_new_imp = imp.transform(features_new)\n",
    "# Scale features using the same scaler fit using training data earlier\n",
    "features_new_imp_scaled = scaler.transform(features_new_imp)"
   ]
  },
  {
   "cell_type": "markdown",
   "metadata": {},
   "source": [
    "#### Label New Unseen Data Using Logistic Regression Model"
   ]
  },
  {
   "cell_type": "code",
   "execution_count": 44,
   "metadata": {},
   "outputs": [],
   "source": [
    "predictions_lr_new = log_reg.predict(features_new_imp_scaled)"
   ]
  },
  {
   "cell_type": "markdown",
   "metadata": {},
   "source": [
    "#### Label New Unseen Data Using Decision Tree Model"
   ]
  },
  {
   "cell_type": "code",
   "execution_count": 45,
   "metadata": {},
   "outputs": [],
   "source": [
    "predictions_dt_new = dec_tree.predict(features_new_imp_scaled)"
   ]
  },
  {
   "cell_type": "markdown",
   "metadata": {},
   "source": [
    "#### Create a dataset with new unseen data labeled using logistic regression and decision tree model"
   ]
  },
  {
   "cell_type": "code",
   "execution_count": 46,
   "metadata": {},
   "outputs": [],
   "source": [
    "df_echo_new['Prediction_logistic_regression'] = predictions_lr_new\n",
    "df_echo_new['Prediction_decision_tree'] = predictions_dt_new"
   ]
  },
  {
   "cell_type": "code",
   "execution_count": 47,
   "metadata": {},
   "outputs": [],
   "source": [
    "# Write new dataset with predictions to a csv file\n",
    "df_echo_new.to_csv('predictions_unseen_data.csv', index=False)"
   ]
  },
  {
   "cell_type": "markdown",
   "metadata": {},
   "source": [
    "<a id='cl'></a>\n",
    "## Conclusion\n",
    "In this project, I trained a model using echonocardiogram data to predict if a patient will survive for at least two years after a heart attack. I used decision tree algorithm to train the model. This model yielded an F1_macro score of `0.60`. It correctly predicted `4` out of `7` instances (recall `0.57`) in the held-out test data, where the patients died before 2 years. Also, it correctly predicted `7` out of `11` instances (recall `0.64`), where the patients survived at least 2 years. "
   ]
  },
  {
   "cell_type": "markdown",
   "metadata": {},
   "source": [
    "<a id='fi'></a>\n",
    "## Further Improvement of the Model\n",
    "\n",
    "- One of the greatest limitations in this project is amount of data available for training. To improve the model performance further, we may need more data. Although not guaranteed, ensembles and deep neural networks generally produce better results. But for these algorithms to work well we need more data. As you can see above, in fact random forest, boosting and MLP performed worse than decision tree in this case as dataset is very small.\n",
    "\n",
    "- Class imbalance is another problem. So, we can also try upsampling the rare class. \n",
    "\n",
    "- Nested cross validation may also help since amount of data available for training, validation and testing all increases a little bit if we use this technique.\n",
    "\n",
    "- I think, the following additional features may be helpful.\n",
    "\n",
    "    - Gender; in the first year after a heart attack, women are more than 50% more likely to die than men are [Reference](https://www.texasheart.org/heart-health/heart-information-center/topics/women-and-heart-disease/).\n",
    "    - Income: rich people can afford better care after a heart-attack.\n",
    "    - Area of residence (urban or rural): patients living in urban areas are likely to get faster emergency care in case of subsequent attacks.\n",
    "    - Occupation: stressful occupation can worsen cardiovascular problems [Reference](https://www.ncbi.nlm.nih.gov/pmc/articles/PMC2822187/)."
   ]
  }
 ],
 "metadata": {
  "kernelspec": {
   "display_name": "Python 3",
   "language": "python",
   "name": "python3"
  },
  "language_info": {
   "codemirror_mode": {
    "name": "ipython",
    "version": 3
   },
   "file_extension": ".py",
   "mimetype": "text/x-python",
   "name": "python",
   "nbconvert_exporter": "python",
   "pygments_lexer": "ipython3",
   "version": "3.8.5"
  }
 },
 "nbformat": 4,
 "nbformat_minor": 2
}
